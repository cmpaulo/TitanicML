{
 "cells": [
  {
   "cell_type": "code",
   "execution_count": 3,
   "id": "d0850249",
   "metadata": {
    "_cell_guid": "b1076dfc-b9ad-4769-8c92-a6c4dae69d19",
    "_uuid": "8f2839f25d086af736a60e9eeb907d3b93b6e0e5",
    "execution": {
     "iopub.execute_input": "2022-01-17T21:15:33.963075Z",
     "iopub.status.busy": "2022-01-17T21:15:33.961388Z",
     "iopub.status.idle": "2022-01-17T21:15:33.974857Z",
     "shell.execute_reply": "2022-01-17T21:15:33.974068Z",
     "shell.execute_reply.started": "2022-01-17T20:46:04.581152Z"
    },
    "papermill": {
     "duration": 0.027299,
     "end_time": "2022-01-17T21:15:33.975030",
     "exception": false,
     "start_time": "2022-01-17T21:15:33.947731",
     "status": "completed"
    },
    "tags": []
   },
   "outputs": [],
   "source": [
    "# This Python 3 environment comes with many helpful analytics libraries installed\n",
    "# It is defined by the kaggle/python Docker image: https://github.com/kaggle/docker-python\n",
    "# For example, here's several helpful packages to load\n",
    "\n",
    "import numpy as np # linear algebra\n",
    "import pandas as pd # data processing, CSV file I/O (e.g. pd.read_csv)\n",
    "\n",
    "# Input data files are available in the read-only \"../input/\" directory\n",
    "# For example, running this (by clicking run or pressing Shift+Enter) will list all files under the input directory\n",
    "\n",
    "import os\n",
    "for dirname, _, filenames in os.walk('/kaggle/input'):\n",
    "    for filename in filenames:\n",
    "        print(os.path.join(dirname, filename))\n",
    "\n",
    "# You can write up to 20GB to the current directory (/kaggle/working/) that gets preserved as output when you create a version using \"Save & Run All\" \n",
    "# You can also write temporary files to /kaggle/temp/, but they won't be saved outside of the current session"
   ]
  },
  {
   "cell_type": "code",
   "execution_count": 4,
   "id": "156de032",
   "metadata": {
    "execution": {
     "iopub.execute_input": "2022-01-17T21:15:33.993448Z",
     "iopub.status.busy": "2022-01-17T21:15:33.992806Z",
     "iopub.status.idle": "2022-01-17T21:15:34.106754Z",
     "shell.execute_reply": "2022-01-17T21:15:34.106165Z",
     "shell.execute_reply.started": "2022-01-17T20:46:04.591882Z"
    },
    "papermill": {
     "duration": 0.124872,
     "end_time": "2022-01-17T21:15:34.106891",
     "exception": false,
     "start_time": "2022-01-17T21:15:33.982019",
     "status": "completed"
    },
    "tags": []
   },
   "outputs": [],
   "source": [
    "# test = pd.read_csv(\"/kaggle/input/titanic/test.csv\")\n",
    "# train = pd.read_csv(\"/kaggle/input/titanic/train.csv\")\n",
    "\n",
    "test = pd.read_csv(\"test.csv\")\n",
    "train = pd.read_csv(\"train.csv\")"
   ]
  },
  {
   "cell_type": "code",
   "execution_count": 5,
   "id": "b3e1b9e1",
   "metadata": {
    "execution": {
     "iopub.execute_input": "2022-01-17T21:15:34.124945Z",
     "iopub.status.busy": "2022-01-17T21:15:34.124063Z",
     "iopub.status.idle": "2022-01-17T21:15:35.131470Z",
     "shell.execute_reply": "2022-01-17T21:15:35.130884Z",
     "shell.execute_reply.started": "2022-01-17T20:46:04.624606Z"
    },
    "papermill": {
     "duration": 1.018103,
     "end_time": "2022-01-17T21:15:35.131643",
     "exception": false,
     "start_time": "2022-01-17T21:15:34.113540",
     "status": "completed"
    },
    "tags": []
   },
   "outputs": [],
   "source": [
    "import pandas as pd\n",
    "from sklearn.feature_selection import SelectKBest, chi2\n",
    "from sklearn.preprocessing import MinMaxScaler\n",
    "from sklearn import linear_model"
   ]
  },
  {
   "cell_type": "code",
   "execution_count": 6,
   "id": "927a2ce1",
   "metadata": {
    "execution": {
     "iopub.execute_input": "2022-01-17T21:15:35.171022Z",
     "iopub.status.busy": "2022-01-17T21:15:35.170106Z",
     "iopub.status.idle": "2022-01-17T21:15:35.173131Z",
     "shell.execute_reply": "2022-01-17T21:15:35.172686Z",
     "shell.execute_reply.started": "2022-01-17T20:46:04.63025Z"
    },
    "papermill": {
     "duration": 0.034459,
     "end_time": "2022-01-17T21:15:35.173291",
     "exception": false,
     "start_time": "2022-01-17T21:15:35.138832",
     "status": "completed"
    },
    "tags": []
   },
   "outputs": [],
   "source": [
    "# using fuction of pandas map.\n",
    "change = {'female': 1 , 'male': 0}\n",
    "train['Sex_binario'] = train['Sex'].map(change)\n",
    "\n",
    "embarked = {'S': 1 , 'C': 2, 'Q': 3}\n",
    "train['Embarket_num'] = train['Embarked'].map(embarked)\n",
    "\n",
    "test['Sex_binario'] = test['Sex'].map(change)\n",
    "test['Embarket_num'] = test['Embarked'].map(embarked)"
   ]
  },
  {
   "cell_type": "code",
   "execution_count": 5,
   "id": "e1fac324",
   "metadata": {
    "execution": {
     "iopub.execute_input": "2022-01-17T21:15:35.201229Z",
     "iopub.status.busy": "2022-01-17T21:15:35.200582Z",
     "iopub.status.idle": "2022-01-17T21:15:35.208578Z",
     "shell.execute_reply": "2022-01-17T21:15:35.209280Z",
     "shell.execute_reply.started": "2022-01-17T20:46:04.650413Z"
    },
    "papermill": {
     "duration": 0.029889,
     "end_time": "2022-01-17T21:15:35.209595",
     "exception": false,
     "start_time": "2022-01-17T21:15:35.179706",
     "status": "completed"
    },
    "tags": []
   },
   "outputs": [
    {
     "name": "stdout",
     "output_type": "stream",
     "text": [
      "\n",
      "Best features:\n",
      "{'Sex_binario': 372.40572360221495, 'Pclass': 115.03127218827744, 'Fare': 63.03076422804438, 'Embarket_num': 8.341002975297968, 'Parch': 5.963463836603494, 'SibSp': 1.1105722041132329, 'Age': 0.13757617172787964}\n",
      "dict_keys(['Sex_binario', 'Pclass', 'Fare', 'Embarket_num', 'Parch', 'SibSp', 'Age'])\n"
     ]
    }
   ],
   "source": [
    "#chose the features with SeleckKBest\n",
    "# Machine learning without Analyse Exploratoring Data\n",
    "# quick fillna with -1 values\n",
    "train = train.fillna(-1)\n",
    "# test = train.loc[440:891,:].fillna(-1)\n",
    "test = test.fillna(-1)\n",
    "\n",
    "features = train.drop(['PassengerId','Ticket','Embarked','Cabin', 'Name' ,'Sex','Survived'], 1)\n",
    "\n",
    "#  teste de features\n",
    "labels = train['Survived']\n",
    "features_list = list(features.keys())\n",
    "k_best_features = SelectKBest(k='all')\n",
    "k_best_features.fit_transform(features, labels)\n",
    "k_best_features_scores = k_best_features.scores_\n",
    "raw_pairs = zip(features_list, k_best_features_scores)\n",
    "ordered_pairs = list(reversed(sorted(raw_pairs, key=lambda x: x[1])))\n",
    "\n",
    "k_best_features_final = dict(ordered_pairs)\n",
    "best_features = k_best_features_final.keys()\n",
    "print ('')\n",
    "print (\"Best features:\")\n",
    "print (k_best_features_final)\n",
    "print (best_features)"
   ]
  },
  {
   "cell_type": "code",
   "execution_count": 6,
   "id": "1b6b2361",
   "metadata": {
    "execution": {
     "iopub.execute_input": "2022-01-17T21:15:35.241232Z",
     "iopub.status.busy": "2022-01-17T21:15:35.240609Z",
     "iopub.status.idle": "2022-01-17T21:15:35.421252Z",
     "shell.execute_reply": "2022-01-17T21:15:35.421750Z",
     "shell.execute_reply.started": "2022-01-17T20:46:04.673398Z"
    },
    "papermill": {
     "duration": 0.204802,
     "end_time": "2022-01-17T21:15:35.421944",
     "exception": false,
     "start_time": "2022-01-17T21:15:35.217142",
     "status": "completed"
    },
    "tags": []
   },
   "outputs": [],
   "source": [
    "# select the features 'Pclass', 'Fare', 'Embarket_num', 'Parch', 'SibSp'\n",
    "features = train.loc[:,['Sex_binario','Pclass', 'Fare', 'Embarket_num']]\n",
    "X_test = test.loc[:,['Sex_binario', 'Pclass', 'Fare', 'Embarket_num']]\n",
    "\n",
    "# Normalized data of features\n",
    "scaler = MinMaxScaler()\n",
    "X_train_scale = scaler.fit_transform(features)  # Normalized data (train)\n",
    "X_test_scale  = scaler.fit_transform(X_test)\n",
    "labels_scale  = scaler.fit_transform(labels.values.reshape(-1, 1))\n",
    "# training linear model.\n",
    "lr = linear_model.LinearRegression()\n",
    "lr.fit(X_train_scale, labels_scale)\n",
    "pred = lr.predict(X_test_scale)"
   ]
  },
  {
   "cell_type": "code",
   "execution_count": 7,
   "id": "9f93db76",
   "metadata": {
    "execution": {
     "iopub.execute_input": "2022-01-17T21:15:35.439747Z",
     "iopub.status.busy": "2022-01-17T21:15:35.438802Z",
     "iopub.status.idle": "2022-01-17T21:15:35.450656Z",
     "shell.execute_reply": "2022-01-17T21:15:35.451150Z",
     "shell.execute_reply.started": "2022-01-17T20:46:04.696222Z"
    },
    "papermill": {
     "duration": 0.022409,
     "end_time": "2022-01-17T21:15:35.451358",
     "exception": false,
     "start_time": "2022-01-17T21:15:35.428949",
     "status": "completed"
    },
    "tags": []
   },
   "outputs": [],
   "source": [
    "# the pred is a probability, and 0.5 or less is dead, and upper 0.5 is survived.\n",
    "import numpy as np\n",
    "p = []\n",
    "for i in range(len(pred)):\n",
    "    if pred[i][0] > 0.5:\n",
    "        p.append(1)\n",
    "    else:\n",
    "        p.append(0)\n",
    "\n",
    "test['Survived'] = np.array(p,dtype=np.int64)\n",
    "\n",
    "surv = test.loc[:,['PassengerId','Survived']]\n",
    "\n",
    "# surv.to_csv('model_III.csv', header=True, index=False)\n",
    "surv.to_csv( 'submission.csv', header=True, index=False)"
   ]
  },
  {
   "cell_type": "code",
   "execution_count": null,
   "id": "78e6d9cc",
   "metadata": {
    "papermill": {
     "duration": 0.006339,
     "end_time": "2022-01-17T21:15:35.464719",
     "exception": false,
     "start_time": "2022-01-17T21:15:35.458380",
     "status": "completed"
    },
    "tags": []
   },
   "outputs": [],
   "source": []
  }
 ],
 "metadata": {
  "kernelspec": {
   "display_name": "Python 3 (ipykernel)",
   "language": "python",
   "name": "python3"
  },
  "language_info": {
   "codemirror_mode": {
    "name": "ipython",
    "version": 3
   },
   "file_extension": ".py",
   "mimetype": "text/x-python",
   "name": "python",
   "nbconvert_exporter": "python",
   "pygments_lexer": "ipython3",
   "version": "3.9.7"
  },
  "papermill": {
   "default_parameters": {},
   "duration": 9.365011,
   "end_time": "2022-01-17T21:15:36.180940",
   "environment_variables": {},
   "exception": null,
   "input_path": "__notebook__.ipynb",
   "output_path": "__notebook__.ipynb",
   "parameters": {},
   "start_time": "2022-01-17T21:15:26.815929",
   "version": "2.3.3"
  }
 },
 "nbformat": 4,
 "nbformat_minor": 5
}
